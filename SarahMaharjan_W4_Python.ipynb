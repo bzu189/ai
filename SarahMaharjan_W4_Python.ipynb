{
  "nbformat": 4,
  "nbformat_minor": 0,
  "metadata": {
    "colab": {
      "provenance": []
    },
    "kernelspec": {
      "name": "python3",
      "display_name": "Python 3"
    },
    "language_info": {
      "name": "python"
    }
  },
  "cells": [
    {
      "cell_type": "code",
      "source": [
        "from google.colab import drive\n",
        "drive.mount('/content/drive')"
      ],
      "metadata": {
        "colab": {
          "base_uri": "https://localhost:8080/"
        },
        "id": "UGg5BgfogudQ",
        "outputId": "c7b2f3b5-529b-4138-c437-5ecbf84145f3"
      },
      "execution_count": 1,
      "outputs": [
        {
          "output_type": "stream",
          "name": "stdout",
          "text": [
            "Mounted at /content/drive\n"
          ]
        }
      ]
    },
    {
      "cell_type": "code",
      "execution_count": 2,
      "metadata": {
        "colab": {
          "base_uri": "https://localhost:8080/"
        },
        "id": "3oOAP00fR9Tb",
        "outputId": "61558e2d-1412-485c-db6b-92ed65308fd0"
      },
      "outputs": [
        {
          "output_type": "stream",
          "name": "stdout",
          "text": [
            "Data after processing:\n",
            "    PassengerId  Survived  Pclass   Age  SibSp  Parch     Fare\n",
            "0            1         0       3  22.0      1      0   7.2500\n",
            "1            2         1       1  38.0      1      0  71.2833\n",
            "2            3         1       3  26.0      0      0   7.9250\n",
            "3            4         1       1  35.0      1      0  53.1000\n",
            "4            5         0       3  35.0      0      0   8.0500\n",
            "\n",
            "Missing values after processing:\n",
            " PassengerId    0\n",
            "Survived       0\n",
            "Pclass         0\n",
            "Age            0\n",
            "SibSp          0\n",
            "Parch          0\n",
            "Fare           0\n",
            "dtype: int64\n"
          ]
        },
        {
          "output_type": "stream",
          "name": "stderr",
          "text": [
            "<ipython-input-2-dc6cdd68e1be>:13: FutureWarning: A value is trying to be set on a copy of a DataFrame or Series through chained assignment using an inplace method.\n",
            "The behavior will change in pandas 3.0. This inplace method will never work because the intermediate object on which we are setting values always behaves as a copy.\n",
            "\n",
            "For example, when doing 'df[col].method(value, inplace=True)', try using 'df.method({col: value}, inplace=True)' or df[col] = df[col].method(value) instead, to perform the operation inplace on the original object.\n",
            "\n",
            "\n",
            "  data[column].fillna(data[column].mean(), inplace=True)\n"
          ]
        }
      ],
      "source": [
        "import pandas as pd\n",
        "import numpy as np\n",
        "# Load the Titanic dataset\n",
        "data = pd.read_csv(\"/content/drive/MyDrive/DAV_SarahMaharjan/Titanic-Dataset.csv\")\n",
        "# Drop all categorical columns except ’Survived’\n",
        "categorical_columns = data.select_dtypes(include=[\"object\"]).columns\n",
        "data = data.drop(columns=[col for col in categorical_columns if col != \"Survived\"])\n",
        "# Check for missing values\n",
        "missing_info = data.isnull().sum() / len(data) * 100\n",
        "# Handle missing values\n",
        "for column in data.columns:\n",
        "  if missing_info[column] > 10: # If more than 10% missing\n",
        "    data[column].fillna(data[column].mean(), inplace=True)\n",
        "  else: # If less than 10% missing\n",
        "    data.dropna(subset=[column], inplace=True)\n",
        "# Display cleaned data\n",
        "print(\"Data after processing:\\n\", data.head())\n",
        "print(\"\\nMissing values after processing:\\n\", data.isnull().sum())"
      ]
    },
    {
      "cell_type": "code",
      "source": [
        "import numpy as np\n",
        "# Separate features (X) and target (y)\n",
        "X = data.drop(columns=[\"Survived\"]).values # Convert features to NumPy array\n",
        "y = data[\"Survived\"].values # Convert target to NumPy array\n",
        "# Define a function for train-test split from scratch\n",
        "def train_test_split_scratch(X, y, test_size=0.3, random_seed=42):\n",
        "  np.random.seed(random_seed)\n",
        "  indices = np.arange(X.shape[0])\n",
        "  np.random.shuffle(indices) # Shuffle the indices\n",
        "  test_split_size = int(len(X) * test_size)\n",
        "  test_indices = indices[:test_split_size]\n",
        "  train_indices = indices[test_split_size:]\n",
        "  X_train, X_test = X[train_indices], X[test_indices]\n",
        "  y_train, y_test = y[train_indices], y[test_indices]\n",
        "  return X_train, X_test, y_train, y_test\n",
        "# Perform the train-test split\n",
        "X_train, X_test, y_train, y_test = train_test_split_scratch(X, y, test_size=0.3)\n",
        "# Output shapes to verify\n",
        "print(\"Shape of X_train:\", X_train.shape)\n",
        "print(\"Shape of X_test:\", X_test.shape)\n",
        "print(\"Shape of y_train:\", y_train.shape)\n",
        "print(\"Shape of y_test:\", y_test.shape)"
      ],
      "metadata": {
        "colab": {
          "base_uri": "https://localhost:8080/"
        },
        "id": "a0HO3-uHhK63",
        "outputId": "3ccf2efa-895e-4f32-b0f9-444313be5f2f"
      },
      "execution_count": 3,
      "outputs": [
        {
          "output_type": "stream",
          "name": "stdout",
          "text": [
            "Shape of X_train: (624, 6)\n",
            "Shape of X_test: (267, 6)\n",
            "Shape of y_train: (624,)\n",
            "Shape of y_test: (267,)\n"
          ]
        }
      ]
    },
    {
      "cell_type": "code",
      "source": [
        "def euclidean_distance(point1, point2):\n",
        "  # Check if the points are of the same dimension\n",
        "  if point1.shape != point2.shape:\n",
        "    raise ValueError(\"Points must have the same dimensions to calculate Euclidean distance.\")\n",
        "  # Calculate the Euclidean distance\n",
        "  distance = np.sqrt(np.sum((point1 - point2) ** 2))\n",
        "  return distance"
      ],
      "metadata": {
        "id": "kZ7A8xJKhVrI"
      },
      "execution_count": 4,
      "outputs": []
    },
    {
      "cell_type": "code",
      "source": [
        "try:\n",
        "  # Define two points\n",
        "  point1 = np.array([3, 4])\n",
        "  point2 = np.array([0, 0])\n",
        "  # Calculate the distance\n",
        "  result = euclidean_distance(point1, point2)\n",
        "  # Check if the result matches the expected value (e.g., sqrt(3^2 + 4^2) = 5)\n",
        "  expected_result = 5.0\n",
        "  assert np.isclose(result, expected_result), f\"Expected {expected_result}, but got {result}\"\n",
        "  print(\"Test passed successfully!\")\n",
        "except ValueError as ve:\n",
        "  print(f\"ValueError: {ve}\")\n",
        "except AssertionError as ae:\n",
        "  print(f\"AssertionError: {ae}\")\n",
        "except Exception as e:\n",
        "  print(f\"An unexpected error occurred: {e}\")"
      ],
      "metadata": {
        "colab": {
          "base_uri": "https://localhost:8080/"
        },
        "id": "OsXtfKDOhwzd",
        "outputId": "24165bcc-2829-4ec0-a6ec-a322ef942457"
      },
      "execution_count": 5,
      "outputs": [
        {
          "output_type": "stream",
          "name": "stdout",
          "text": [
            "Test passed successfully!\n"
          ]
        }
      ]
    },
    {
      "cell_type": "code",
      "source": [
        "# Function for KNN prediction for a single query\n",
        "def knn_predict_single(query, X_train, y_train, k=3):\n",
        "  distances = [euclidean_distance(query, x) for x in X_train]\n",
        "  sorted_indices = np.argsort(distances)\n",
        "  nearest_indices = sorted_indices[:k]\n",
        "  nearest_labels = y_train[nearest_indices]\n",
        "  prediction = np.bincount(nearest_labels).argmax()\n",
        "  return prediction"
      ],
      "metadata": {
        "id": "rZ2g7K0FiBFp"
      },
      "execution_count": 6,
      "outputs": []
    },
    {
      "cell_type": "code",
      "source": [
        "# Function to test KNN for all test samples\n",
        "def knn_predict(X_test, X_train, y_train, k=3):\n",
        "  predictions=[knn_predict_single(x,X_train, y_train,k)for x in X_test]\n",
        "  return np.array(predictions)"
      ],
      "metadata": {
        "id": "GD1uPxDTiIIW"
      },
      "execution_count": 7,
      "outputs": []
    },
    {
      "cell_type": "code",
      "source": [
        "# Test case for KNN on the Titanic dataset\n",
        "# Assume X_train, X_test, y_train, and y_test have been prepared using the code above\n",
        "try:\n",
        "  # Define the test set for the test case\n",
        "  X_test_sample = X_test[:5] # Taking a small subset for testing\n",
        "  y_test_sample = y_test[:5] # Corresponding labels for the subset\n",
        "  # Make predictions\n",
        "  predictions = knn_predict(X_test_sample, X_train, y_train, k=3)\n",
        "  # Print test results\n",
        "  print(\"Predictions:\", predictions)\n",
        "  print(\"Actual labels:\", y_test_sample)\n",
        "  # Check if predictions match expected format\n",
        "  assert predictions.shape == y_test_sample.shape, \"The shape of predictions does not match the shape of the actual labels.\"\n",
        "  print(\"Test case passed successfully!\")\n",
        "except AssertionError as ae:\n",
        "  print(f\"AssertionError: {ae}\")\n",
        "except Exception as e:\n",
        "  print(f\"An unexpected error occurred: {e}\")"
      ],
      "metadata": {
        "colab": {
          "base_uri": "https://localhost:8080/"
        },
        "id": "sAx7X3utiX88",
        "outputId": "670acd27-95b5-4f30-9f7d-4f43fff92dbb"
      },
      "execution_count": 8,
      "outputs": [
        {
          "output_type": "stream",
          "name": "stdout",
          "text": [
            "Predictions: [0 1 0 0 0]\n",
            "Actual labels: [1 0 0 1 1]\n",
            "Test case passed successfully!\n"
          ]
        }
      ]
    },
    {
      "cell_type": "code",
      "source": [
        "# Function to compute accuracy of predictions\n",
        "def compute_accuracy(y_true, y_pred):\n",
        "  correct_predictions = np.sum(y_true == y_pred)\n",
        "  total_predictions = len(y_true)\n",
        "  accuracy = (correct_predictions / total_predictions) * 100\n",
        "  return accuracy"
      ],
      "metadata": {
        "id": "KcEHR7r8ijcr"
      },
      "execution_count": 9,
      "outputs": []
    },
    {
      "cell_type": "code",
      "source": [
        "# Perform prediction on the entire test set\n",
        "try:\n",
        "  # Make predictions on the entire test set\n",
        "  predictions = knn_predict(X_test, X_train, y_train, k=3)\n",
        "  # Compute the accuracy\n",
        "  accuracy = compute_accuracy(y_test, predictions)\n",
        "  # Print the accuracy\n",
        "  print(f\"Accuracy of the KNN model on the test set: {accuracy:.2f}%\")\n",
        "except Exception as e:\n",
        "  print(f\"An unexpected error occurred during prediction or accuracy computation: {e}\")"
      ],
      "metadata": {
        "colab": {
          "base_uri": "https://localhost:8080/"
        },
        "id": "yuLYCG1KioeL",
        "outputId": "590050f3-017c-4877-c133-5fa079b331ab"
      },
      "execution_count": 10,
      "outputs": [
        {
          "output_type": "stream",
          "name": "stdout",
          "text": [
            "Accuracy of the KNN model on the test set: 61.80%\n"
          ]
        }
      ]
    },
    {
      "cell_type": "code",
      "source": [
        "# Function to test KNN on different values of k and plot the accuracies\n",
        "import matplotlib.pyplot as plt\n",
        "def experiment_knn_k_values(X_train, y_train, X_test, y_test, k_values):\n",
        "  accuracies = {}\n",
        "  for k in k_values:\n",
        "    # Make predictions using the current value of k\n",
        "    predictions = knn_predict(X_test, X_train, y_train, k=k)\n",
        "    # Compute the accuracy\n",
        "    accuracy = compute_accuracy(y_test, predictions)\n",
        "    accuracies[k] = accuracy\n",
        "    print(f\"Accuracy for k={k}: {accuracy:.2f}%\")\n",
        "    # Plot the accuracies\n",
        "    plt.figure(figsize=(10, 5))\n",
        "    plt.plot(k_values, list(accuracies.values()), marker=\"o\")\n",
        "    plt.xlabel(\"k (Number of Neighbors)\")\n",
        "    plt.ylabel(\"Accuracy (%)\")\n",
        "    plt.title(\"Accuracy of KNN with Different Values of k\")\n",
        "    plt.grid(True)\n",
        "    plt.show()\n",
        "    return accuracies"
      ],
      "metadata": {
        "id": "15Al0ixLisX4"
      },
      "execution_count": 11,
      "outputs": []
    },
    {
      "cell_type": "code",
      "source": [
        "# Define the range of k values to experiment with\n",
        "k_values = range(1, 21) # You can adjust this range as needed\n",
        "# Run the experiment\n",
        "try:\n",
        "  accuracies = experiment_knn_k_values(X_train, y_train, X_test, y_test, k_values)\n",
        "  print(\"Experiment completed. Check the plot for the accuracy trend.\")\n",
        "except Exception as e:\n",
        "  print(f\"An unexpected error occurred during the experiment: {e}\")"
      ],
      "metadata": {
        "colab": {
          "base_uri": "https://localhost:8080/",
          "height": 486
        },
        "id": "zIArmt9RjC3l",
        "outputId": "172cf9cb-76ac-47d0-babd-f21ec5d65f32"
      },
      "execution_count": 12,
      "outputs": [
        {
          "output_type": "stream",
          "name": "stdout",
          "text": [
            "Accuracy for k=1: 58.43%\n",
            "An unexpected error occurred during the experiment: x and y must have same first dimension, but have shapes (20,) and (1,)\n"
          ]
        },
        {
          "output_type": "display_data",
          "data": {
            "text/plain": [
              "<Figure size 1000x500 with 1 Axes>"
            ],
            "image/png": "[encoded data removed]"
          },
          "metadata": {}
        }
      ]
    },
    {
      "cell_type": "code",
      "source": [
        "import pandas as pd\n",
        "import numpy as np\n",
        "diabetes = pd.read_csv(\"/content/drive/MyDrive/DAV_SarahMaharjan/diabetes.csv\")\n",
        "\n",
        "#Displaying few rows\n",
        "print(diabetes.head())\n",
        "\n",
        "#showing summary\n",
        "print(diabetes.describe())\n",
        "\n",
        "#checking missing values\n",
        "print(diabetes.isnull().sum())\n",
        "\n",
        "# 2. Handle Missing Data:\n",
        "# • Handle any missing values appropriately, either by dropping or imputing them based on the data.\n",
        "diabetes.fillna(diabetes.mean(), inplace=True)\n",
        "print(\"\\n rechecking the missing values: \\n\")\n",
        "print(diabetes.isnull().sum())\n",
        "\n",
        "# 3. Feature Engineering:\n",
        "# • Separate the feature matrix (X) and target variable (y).\n",
        "# # • Perform a train - test split from scratch using a 70% − 30% ratio.\n",
        "# assigning the values to x and y\n",
        "x = diabetes.iloc[:, :-1].values\n",
        "y = diabetes.iloc[:, -1].values\n",
        "\n",
        "def split(X, y, test_size=0.3, random_seed=42):\n",
        "  np.random.seed(random_seed)\n",
        "  indices = np.arange(x.shape[0])\n",
        "  np.random.shuffle(indices) # Shuffle the indices\n",
        "  test_split_size = int(len(X) * test_size)\n",
        "  test_indices = indices[:test_split_size]\n",
        "  train_indices = indices[test_split_size:]\n",
        "  X_train, X_test = X[train_indices], X[test_indices]\n",
        "  y_train, y_test = y[train_indices], y[test_indices]\n",
        "  return X_train, X_test, y_train, y_test\n",
        "# Perform the train-test split\n",
        "X_train, X_test, y_train, y_test = split(X, y, test_size=0.3)\n",
        "print(\"Shape of X_train:\", X_train.shape)\n",
        "print(\"Shape of X_test:\", X_test.shape)\n",
        "print(\"Shape of y_train:\", y_train.shape)\n",
        "print(\"Shape of y_test:\", y_test.shape)\n",
        "\n",
        "# 4. Implement KNN:\n",
        "# • Build the KNN algorithm from scratch (no libraries like sickit-learn for KNN).\n",
        "# • Compute distances using Euclidean distance.\n",
        "# • Write functions for:\n",
        "# – Predicting the class for a single query.\n",
        "# – Predicting classes for all test samples.\n",
        "# • Evaluate the performance using accuracy.\n",
        "def euxlidean_distance(x1,x2):\n",
        "  return np.sqrt(np.sum((x1-x2)**2))\n",
        "\n",
        "def predict_single_point(x_query, X_train, y_train, k=3):\n",
        "    distances = [euclidean_distance(x_query, x_train) for x_train in X_train]\n",
        "    k_nearest_indices = np.argsort(distances)[:k]\n",
        "    k_nearest_labels = y_train[k_nearest_indices]\n",
        "    return np.bincount(k_nearest_labels).argmax()\n",
        "\n",
        "def predict(X_test, X_train, y_train, k=3):\n",
        "    return np.array([predict_single_point(x, X_train, y_train, k) for x in X_test])\n",
        "\n",
        "#evaluating the performance\n",
        "k = 5\n",
        "y_pred = predict(X_test, X_train, y_train, k)\n",
        "\n",
        "#checking the accuracy\n",
        "accuracy = np.sum(y_pred == y_test) / len(y_test)\n",
        "print(f\"\\nAccuracy with k={k}: {accuracy * 100}%\")"
      ],
      "metadata": {
        "colab": {
          "base_uri": "https://localhost:8080/"
        },
        "id": "aY4Hhi9IjMQw",
        "outputId": "b624b6ce-de2e-4d48-d7cd-1c3e999a89c6"
      },
      "execution_count": 14,
      "outputs": [
        {
          "output_type": "stream",
          "name": "stdout",
          "text": [
            "   Pregnancies  Glucose  BloodPressure  SkinThickness  Insulin   BMI  \\\n",
            "0            6      148             72             35        0  33.6   \n",
            "1            1       85             66             29        0  26.6   \n",
            "2            8      183             64              0        0  23.3   \n",
            "3            1       89             66             23       94  28.1   \n",
            "4            0      137             40             35      168  43.1   \n",
            "\n",
            "   DiabetesPedigreeFunction  Age  Outcome  \n",
            "0                     0.627   50        1  \n",
            "1                     0.351   31        0  \n",
            "2                     0.672   32        1  \n",
            "3                     0.167   21        0  \n",
            "4                     2.288   33        1  \n",
            "       Pregnancies     Glucose  BloodPressure  SkinThickness     Insulin  \\\n",
            "count   768.000000  768.000000     768.000000     768.000000  768.000000   \n",
            "mean      3.845052  120.894531      69.105469      20.536458   79.799479   \n",
            "std       3.369578   31.972618      19.355807      15.952218  115.244002   \n",
            "min       0.000000    0.000000       0.000000       0.000000    0.000000   \n",
            "25%       1.000000   99.000000      62.000000       0.000000    0.000000   \n",
            "50%       3.000000  117.000000      72.000000      23.000000   30.500000   \n",
            "75%       6.000000  140.250000      80.000000      32.000000  127.250000   \n",
            "max      17.000000  199.000000     122.000000      99.000000  846.000000   \n",
            "\n",
            "              BMI  DiabetesPedigreeFunction         Age     Outcome  \n",
            "count  768.000000                768.000000  768.000000  768.000000  \n",
            "mean    31.992578                  0.471876   33.240885    0.348958  \n",
            "std      7.884160                  0.331329   11.760232    0.476951  \n",
            "min      0.000000                  0.078000   21.000000    0.000000  \n",
            "25%     27.300000                  0.243750   24.000000    0.000000  \n",
            "50%     32.000000                  0.372500   29.000000    0.000000  \n",
            "75%     36.600000                  0.626250   41.000000    1.000000  \n",
            "max     67.100000                  2.420000   81.000000    1.000000  \n",
            "Pregnancies                 0\n",
            "Glucose                     0\n",
            "BloodPressure               0\n",
            "SkinThickness               0\n",
            "Insulin                     0\n",
            "BMI                         0\n",
            "DiabetesPedigreeFunction    0\n",
            "Age                         0\n",
            "Outcome                     0\n",
            "dtype: int64\n",
            "\n",
            " rechecking the missing values: \n",
            "\n",
            "Pregnancies                 0\n",
            "Glucose                     0\n",
            "BloodPressure               0\n",
            "SkinThickness               0\n",
            "Insulin                     0\n",
            "BMI                         0\n",
            "DiabetesPedigreeFunction    0\n",
            "Age                         0\n",
            "Outcome                     0\n",
            "dtype: int64\n",
            "Shape of X_train: (501, 6)\n",
            "Shape of X_test: (267, 6)\n",
            "Shape of y_train: (501,)\n",
            "Shape of y_test: (267,)\n",
            "\n",
            "Accuracy with k=5: 63.670411985018724%\n"
          ]
        }
      ]
    },
    {
      "cell_type": "code",
      "source": [
        "# Problem - 2 - Experimentation:\n",
        "# 1. Repeat the Classification Task:\n",
        "# • Scale the Feature matrix X.\n",
        "# • Use the scaled data for training and testing the kNN Classifier.\n",
        "# • Record the results.\n",
        "import numpy as np\n",
        "import pandas as pd\n",
        "import matplotlib.pyplot as plt\n",
        "from time import time\n",
        "from sklearn.metrics import accuracy_score\n",
        "\n",
        "# Scaling function\n",
        "def scaling(x):\n",
        "    return (x - x.min(axis=0)) / (x.max(axis=0) - x.min(axis=0))\n",
        "\n",
        "# Data splitting function\n",
        "def splitting(x, y, size=0.3, random=42):\n",
        "    np.random.seed(random)\n",
        "    indices = np.random.permutation(len(x))\n",
        "    split_ind = int(len(x) * (1 - size))\n",
        "    train_idx, test_idx = indices[:split_ind], indices[split_ind:]\n",
        "    return x[train_idx], x[test_idx], y[train_idx], y[test_idx]\n",
        "\n",
        "# Euclidean distance function\n",
        "def euclidean_distance(x1, x2):\n",
        "    return np.sqrt(np.sum((x1 - x2) ** 2, axis=1))\n",
        "\n",
        "# k-NN classifier\n",
        "def knn_predict(x_train, y_train, x_test, k=3):\n",
        "    y_pred = []\n",
        "    for test_point in x_test:\n",
        "        distances = euclidean_distance(x_train, test_point)\n",
        "        k_indices = np.argsort(distances)[:k]\n",
        "        k_nearest_labels = y_train[k_indices]\n",
        "        most_common = np.bincount(k_nearest_labels).argmax()\n",
        "        y_pred.append(most_common)\n",
        "    return np.array(y_pred)\n",
        "\n",
        "# Experimentation function\n",
        "def knn_experiment(x, y, k_values=range(1, 16)):\n",
        "    x_scaled = scaling(x)\n",
        "\n",
        "    # Split the data\n",
        "    x_train, x_test, y_train, y_test = splitting(x, y, size=0.3)\n",
        "    x_train_scaled, x_test_scaled, _, _ = splitting(x_scaled, y, size=0.3)\n",
        "\n",
        "    # Store results\n",
        "    results_original = []\n",
        "    results_scaled = []\n",
        "\n",
        "    for k in k_values:\n",
        "        # Original dataset\n",
        "        start_time = time()\n",
        "        y_pred = knn_predict(x_train, y_train, x_test, k)\n",
        "        time_taken = time() - start_time\n",
        "        accuracy = accuracy_score(y_test, y_pred)\n",
        "        results_original.append((k, accuracy, time_taken))\n",
        "\n",
        "        # Scaled dataset\n",
        "        start_time = time()\n",
        "        y_pred_scaled = knn_predict(x_train_scaled, y_train, x_test_scaled, k)\n",
        "        time_taken_scaled = time() - start_time\n",
        "        accuracy_scaled = accuracy_score(y_test, y_pred_scaled)\n",
        "        results_scaled.append((k, accuracy_scaled, time_taken_scaled))\n",
        "\n",
        "    return results_original, results_scaled\n",
        "\n",
        "# Visualization function\n",
        "def plot_results(results_original, results_scaled):\n",
        "    k_values = [r[0] for r in results_original]\n",
        "    accuracy_original = [r[1] for r in results_original]\n",
        "    time_original = [r[2] for r in results_original]\n",
        "\n",
        "    accuracy_scaled = [r[1] for r in results_scaled]\n",
        "    time_scaled = [r[2] for r in results_scaled]\n",
        "\n",
        "    # Accuracy plot\n",
        "    plt.figure(figsize=(12, 5))\n",
        "    plt.subplot(1, 2, 1)\n",
        "    plt.plot(k_values, accuracy_original, label='Original Data', marker='o')\n",
        "    plt.plot(k_values, accuracy_scaled, label='Scaled Data', marker='s')\n",
        "    plt.xlabel('k (Number of Neighbors)')\n",
        "    plt.ylabel('Accuracy')\n",
        "    plt.title('k vs. Accuracy')\n",
        "    plt.legend()\n",
        "\n",
        "    # Time plot\n",
        "    plt.subplot(1, 2, 2)\n",
        "    plt.plot(k_values, time_original, label='Original Data', marker='o')\n",
        "    plt.plot(k_values, time_scaled, label='Scaled Data', marker='s')\n",
        "    plt.xlabel('k (Number of Neighbors)')\n",
        "    plt.ylabel('Time Taken (seconds)')\n",
        "    plt.title('k vs. Time Taken')\n",
        "    plt.legend()\n",
        "\n",
        "    plt.tight_layout()\n",
        "    plt.show()\n",
        "\n",
        "# Example usage (replace with your dataset)\n",
        "# Assuming x and y are defined, where x is the feature matrix and y is the label vector.\n",
        "# Example dataset (for demonstration):\n",
        "x = np.random.rand(100, 5)\n",
        "y = np.random.randint(0, 2, 100)\n",
        "\n",
        "# Run experiment\n",
        "results_original, results_scaled = knn_experiment(x, y)\n",
        "\n",
        "# Plot results\n",
        "plot_results(results_original, results_scaled)\n",
        "\n",
        "# Analysis (discussion points)\n",
        "def discuss_results(results_original, results_scaled):\n",
        "    print(\"\\n** Comparative Analysis **\")\n",
        "    print(\"Scaling impact on performance:\")\n",
        "    print(\"- Accuracy on original data vs. scaled data:\")\n",
        "    for orig, scaled in zip(results_original, results_scaled):\n",
        "        print(f\"k={orig[0]}: Original Accuracy={orig[1]:.4f}, Scaled Accuracy={scaled[1]:.4f}\")\n",
        "\n",
        "    print(\"\\nScaling generally helps k-NN perform better because it normalizes feature ranges, preventing features with larger scales from dominating.\")\n",
        "    print(\"\\nChallenges of k-NN for large datasets:\")\n",
        "    print(\"- High computational cost due to distance calculation.\")\n",
        "    print(\"- Sensitivity to irrelevant or redundant features.\")\n",
        "    print(\"\\nEfficiency improvement strategies:\")\n",
        "    print(\"- Use of approximate nearest neighbors (ANN).\")\n",
        "    print(\"- Dimensionality reduction techniques like PCA.\")\n",
        "    print(\"- Using faster distance metrics or parallel processing.\")\n",
        "\n",
        "discuss_results(results_original, results_scaled)\n",
        "\n",
        "\n",
        "\n",
        "\n",
        "\n",
        "\n",
        "\n",
        "\n",
        "\n",
        "\n",
        "\n",
        "\n",
        "\n",
        "\n",
        "\n",
        "\n",
        "\n",
        "\n",
        "\n",
        "\n",
        "\n",
        "\n",
        "\n",
        "\n",
        "\n",
        "\n",
        "\n",
        "\n",
        "\n",
        "\n",
        "\n",
        "\n",
        "\n",
        "\n",
        "\n",
        "\n",
        "\n",
        "\n",
        "\n",
        "\n",
        "\n",
        "\n",
        "\n",
        "\n",
        "\n",
        "\n",
        "\n",
        "\n",
        "\n",
        "\n",
        "\n",
        "\n",
        "\n",
        "\n",
        "\n",
        "\n",
        "\n",
        "\n",
        "\n",
        "\n",
        "\n",
        "\n",
        "\n",
        "\n",
        "\n",
        "\n",
        "\n",
        "\n",
        "\n",
        "\n",
        "\n",
        "\n",
        "\n",
        "\n",
        "\n",
        "\n",
        "\n",
        "\n",
        "\n",
        "\n",
        "\n",
        "\n",
        "\n",
        "\n",
        "\n",
        "\n",
        "\n",
        "\n",
        "\n",
        "\n",
        "\n",
        "\n",
        "\n",
        "\n",
        "\n",
        "\n",
        "\n",
        "\n",
        "\n",
        "\n",
        "\n",
        "\n",
        "\n",
        "\n",
        "\n",
        "\n",
        "\n",
        "\n",
        "\n",
        "\n",
        "\n",
        "\n",
        "\n",
        "\n",
        "\n",
        "\n",
        "\n",
        "\n",
        "\n",
        "\n",
        "\n",
        "\n",
        "\n",
        "\n",
        "\n",
        "\n",
        "\n",
        "\n",
        "\n",
        "\n",
        "\n",
        "\n",
        "\n",
        "\n",
        "\n",
        "\n",
        "\n",
        "\n",
        "\n",
        "\n",
        "\n",
        "\n",
        "\n",
        "\n",
        "\n",
        "\n",
        "\n",
        "\n",
        "\n",
        "\n",
        "\n",
        "\n",
        "\n",
        "\n",
        "\n",
        "\n",
        "\n",
        "\n",
        "\n",
        "\n",
        "\n",
        "\n",
        "\n",
        "\n",
        "\n",
        "\n",
        "\n",
        "\n",
        "\n",
        "\n",
        "\n",
        "\n",
        "\n",
        "\n",
        "\n",
        "\n",
        "\n",
        "\n",
        "\n",
        "\n",
        "\n",
        "\n",
        "\n",
        "\n"
      ],
      "metadata": {
        "id": "zObeTMMpkrAt",
        "colab": {
          "base_uri": "https://localhost:8080/",
          "height": 996
        },
        "outputId": "071ed95c-7b00-4fd6-83be-704851ad52a3"
      },
      "execution_count": 16,
      "outputs": [
        {
          "output_type": "display_data",
          "data": {
            "text/plain": [
              "<Figure size 1200x500 with 2 Axes>"
            ],
            "image/png": "[encoded data removed]"
          },
          "metadata": {}
        },
        {
          "output_type": "stream",
          "name": "stdout",
          "text": [
            "\n",
            "** Comparative Analysis **\n",
            "Scaling impact on performance:\n",
            "- Accuracy on original data vs. scaled data:\n",
            "k=1: Original Accuracy=0.5333, Scaled Accuracy=0.5333\n",
            "k=2: Original Accuracy=0.6000, Scaled Accuracy=0.6000\n",
            "k=3: Original Accuracy=0.5667, Scaled Accuracy=0.5667\n",
            "k=4: Original Accuracy=0.5667, Scaled Accuracy=0.5667\n",
            "k=5: Original Accuracy=0.5667, Scaled Accuracy=0.5333\n",
            "k=6: Original Accuracy=0.6000, Scaled Accuracy=0.6000\n",
            "k=7: Original Accuracy=0.5000, Scaled Accuracy=0.5000\n",
            "k=8: Original Accuracy=0.5333, Scaled Accuracy=0.5333\n",
            "k=9: Original Accuracy=0.5000, Scaled Accuracy=0.5000\n",
            "k=10: Original Accuracy=0.5667, Scaled Accuracy=0.5667\n",
            "k=11: Original Accuracy=0.4667, Scaled Accuracy=0.4667\n",
            "k=12: Original Accuracy=0.6000, Scaled Accuracy=0.6000\n",
            "k=13: Original Accuracy=0.5000, Scaled Accuracy=0.5000\n",
            "k=14: Original Accuracy=0.5667, Scaled Accuracy=0.5333\n",
            "k=15: Original Accuracy=0.5333, Scaled Accuracy=0.5333\n",
            "\n",
            "Scaling generally helps k-NN perform better because it normalizes feature ranges, preventing features with larger scales from dominating.\n",
            "\n",
            "Challenges of k-NN for large datasets:\n",
            "- High computational cost due to distance calculation.\n",
            "- Sensitivity to irrelevant or redundant features.\n",
            "\n",
            "Efficiency improvement strategies:\n",
            "- Use of approximate nearest neighbors (ANN).\n",
            "- Dimensionality reduction techniques like PCA.\n",
            "- Using faster distance metrics or parallel processing.\n"
          ]
        }
      ]
    },
    {
      "cell_type": "code",
      "source": [],
      "metadata": {
        "id": "c_YtXFb0la_e"
      },
      "execution_count": null,
      "outputs": []
    }
  ]
}