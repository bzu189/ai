{
  "nbformat": 4,
  "nbformat_minor": 0,
  "metadata": {
    "colab": {
      "provenance": []
    },
    "kernelspec": {
      "name": "python3",
      "display_name": "Python 3"
    },
    "language_info": {
      "name": "python"
    }
  },
  "cells": [
    {
      "cell_type": "code",
      "source": [
        "#Problem 1- Array Creation\n",
        "#1\n",
        "import numpy as np\n",
        "a = np.zeros((2,2))\n",
        "print(a)"
      ],
      "metadata": {
        "colab": {
          "base_uri": "https://localhost:8080/"
        },
        "id": "5BEx1FxeUGrk",
        "outputId": "8ad863d7-eea3-4fef-8943-6385d9e3cfb8"
      },
      "execution_count": 4,
      "outputs": [
        {
          "output_type": "stream",
          "name": "stdout",
          "text": [
            "[[0. 0.]\n",
            " [0. 0.]]\n"
          ]
        }
      ]
    },
    {
      "cell_type": "code",
      "source": [
        "#2\n",
        "import numpy as np\n",
        "a = np.ones((4,2))\n",
        "print(a)"
      ],
      "metadata": {
        "colab": {
          "base_uri": "https://localhost:8080/"
        },
        "id": "6zYb5utlUJ3Z",
        "outputId": "aa2efeb2-6baf-413c-a8ec-4380eaf7c036"
      },
      "execution_count": 5,
      "outputs": [
        {
          "output_type": "stream",
          "name": "stdout",
          "text": [
            "[[1. 1.]\n",
            " [1. 1.]\n",
            " [1. 1.]\n",
            " [1. 1.]]\n"
          ]
        }
      ]
    },
    {
      "cell_type": "code",
      "source": [
        "#3\n",
        "import numpy as np\n",
        "a = np.full((2, 3), 5)\n",
        "print(a)"
      ],
      "metadata": {
        "colab": {
          "base_uri": "https://localhost:8080/"
        },
        "id": "XaK0AYhlUOgp",
        "outputId": "2f1b3014-7987-4c1a-afcd-e0ceb06c5433"
      },
      "execution_count": 6,
      "outputs": [
        {
          "output_type": "stream",
          "name": "stdout",
          "text": [
            "[[5 5 5]\n",
            " [5 5 5]]\n"
          ]
        }
      ]
    },
    {
      "cell_type": "code",
      "source": [
        "#4\n",
        "import numpy as np\n",
        "a = np.array([[1, 2], [3, 4]])\n",
        "zeros_like_array = np.zeros_like(a)\n",
        "print(zeros_like_array)"
      ],
      "metadata": {
        "colab": {
          "base_uri": "https://localhost:8080/"
        },
        "id": "Yx7C9E_QUVm4",
        "outputId": "b5dd4ea3-37be-4864-9248-fbb4b49cecd4"
      },
      "execution_count": 7,
      "outputs": [
        {
          "output_type": "stream",
          "name": "stdout",
          "text": [
            "[[0 0]\n",
            " [0 0]]\n"
          ]
        }
      ]
    },
    {
      "cell_type": "code",
      "source": [
        "#5\n",
        "import numpy as np\n",
        "a = np.array([[1, 2], [3, 4]])\n",
        "ones_like_array = np.ones_like(a)\n",
        "print(ones_like_array)"
      ],
      "metadata": {
        "colab": {
          "base_uri": "https://localhost:8080/"
        },
        "id": "7srjKArDUYFS",
        "outputId": "791fa7bd-a2d6-4b65-8a35-d8c4cdd0b60f"
      },
      "execution_count": 8,
      "outputs": [
        {
          "output_type": "stream",
          "name": "stdout",
          "text": [
            "[[1 1]\n",
            " [1 1]]\n"
          ]
        }
      ]
    },
    {
      "cell_type": "code",
      "source": [
        "#6\n",
        "import numpy as np\n",
        "new_list =[1, 2, 3, 4]\n",
        "converted_array = np.array(new_list)\n",
        "print(converted_array)"
      ],
      "metadata": {
        "colab": {
          "base_uri": "https://localhost:8080/"
        },
        "id": "UV-OrmHrUc8l",
        "outputId": "12a1206e-fe59-4e09-c8fe-d334c65581b2"
      },
      "execution_count": 9,
      "outputs": [
        {
          "output_type": "stream",
          "name": "stdout",
          "text": [
            "[1 2 3 4]\n"
          ]
        }
      ]
    },
    {
      "cell_type": "code",
      "source": [
        "#Problem 2: Array Manipulation: Numerical Ranges and Array indexing\n",
        "#1\n",
        "import numpy as np\n",
        "arr = np.arange(10, 50)\n",
        "print(arr)"
      ],
      "metadata": {
        "colab": {
          "base_uri": "https://localhost:8080/"
        },
        "id": "e-pzYWXHUfYx",
        "outputId": "315292b9-d73c-4158-d2a2-5f2684f515e1"
      },
      "execution_count": 10,
      "outputs": [
        {
          "output_type": "stream",
          "name": "stdout",
          "text": [
            "[10 11 12 13 14 15 16 17 18 19 20 21 22 23 24 25 26 27 28 29 30 31 32 33\n",
            " 34 35 36 37 38 39 40 41 42 43 44 45 46 47 48 49]\n"
          ]
        }
      ]
    },
    {
      "cell_type": "code",
      "source": [
        "#2\n",
        "import numpy as np\n",
        "mat = np.arange(9).reshape(3, 3)\n",
        "print(mat)"
      ],
      "metadata": {
        "colab": {
          "base_uri": "https://localhost:8080/"
        },
        "id": "qGByhD4KUhaA",
        "outputId": "c415b6ed-13e9-4b5e-a888-926ff7ca500c"
      },
      "execution_count": 11,
      "outputs": [
        {
          "output_type": "stream",
          "name": "stdout",
          "text": [
            "[[0 1 2]\n",
            " [3 4 5]\n",
            " [6 7 8]]\n"
          ]
        }
      ]
    },
    {
      "cell_type": "code",
      "source": [
        "#3\n",
        "import numpy as np\n",
        "identity_mat = np.eye(3)\n",
        "print(identity_mat)"
      ],
      "metadata": {
        "colab": {
          "base_uri": "https://localhost:8080/"
        },
        "id": "jwIfFAGMUnvf",
        "outputId": "8da9d618-7d07-4653-8b42-798aa28421b5"
      },
      "execution_count": 12,
      "outputs": [
        {
          "output_type": "stream",
          "name": "stdout",
          "text": [
            "[[1. 0. 0.]\n",
            " [0. 1. 0.]\n",
            " [0. 0. 1.]]\n"
          ]
        }
      ]
    },
    {
      "cell_type": "code",
      "source": [
        "#4\n",
        "import numpy as np\n",
        "arr = np.random.random(30)\n",
        "mean = arr.mean()\n",
        "print(arr, mean)"
      ],
      "metadata": {
        "colab": {
          "base_uri": "https://localhost:8080/"
        },
        "id": "TJZfuYY0UtlE",
        "outputId": "7f46c7e2-a433-4c32-d879-efb07cfb0c5f"
      },
      "execution_count": 13,
      "outputs": [
        {
          "output_type": "stream",
          "name": "stdout",
          "text": [
            "[0.20059177 0.21299779 0.88648142 0.44386808 0.36419996 0.09900917\n",
            " 0.07174758 0.91905749 0.58005083 0.05018299 0.04440798 0.27923991\n",
            " 0.40572461 0.88212059 0.93327946 0.57007292 0.38906324 0.28982367\n",
            " 0.5498472  0.88999705 0.24046394 0.5662356  0.93727625 0.93622231\n",
            " 0.33235594 0.95010591 0.27118444 0.93925157 0.37714261 0.68857791] 0.5100193386700921\n"
          ]
        }
      ]
    },
    {
      "cell_type": "code",
      "source": [
        "#5\n",
        "import numpy as np\n",
        "arr = np.random.random((10, 10))\n",
        "arr_min = arr.min()\n",
        "arr_max = arr.max()\n",
        "print(\"Minimum Value:\", arr_min, \"\\nMaximum Value:\", arr_max)"
      ],
      "metadata": {
        "colab": {
          "base_uri": "https://localhost:8080/"
        },
        "id": "pSU5aW0MUxPL",
        "outputId": "85b6bdc4-9efc-4817-e641-48cc90c203c5"
      },
      "execution_count": 14,
      "outputs": [
        {
          "output_type": "stream",
          "name": "stdout",
          "text": [
            "Minimum Value: 0.0012112170848304071 \n",
            "Maximum Value: 0.994946881874408\n"
          ]
        }
      ]
    },
    {
      "cell_type": "code",
      "source": [
        "#6\n",
        "import numpy as np\n",
        "arr = np.zeros(10)\n",
        "arr[4] = 1\n",
        "print(arr)"
      ],
      "metadata": {
        "colab": {
          "base_uri": "https://localhost:8080/"
        },
        "id": "f-I_w6zfU02G",
        "outputId": "0343c015-0f75-4281-f330-2ac63fa192f8"
      },
      "execution_count": 15,
      "outputs": [
        {
          "output_type": "stream",
          "name": "stdout",
          "text": [
            "[0. 0. 0. 0. 1. 0. 0. 0. 0. 0.]\n"
          ]
        }
      ]
    },
    {
      "cell_type": "code",
      "source": [
        "#7\n",
        "import numpy as np\n",
        "arr = [1, 2, 0, 0, 4, 0]\n",
        "reversed_arr = np.array(arr)[::-1]\n",
        "print(reversed_arr)"
      ],
      "metadata": {
        "colab": {
          "base_uri": "https://localhost:8080/"
        },
        "id": "FxyObLM_U5KC",
        "outputId": "ac8778a8-0861-4a37-a13b-6c871a081d19"
      },
      "execution_count": 16,
      "outputs": [
        {
          "output_type": "stream",
          "name": "stdout",
          "text": [
            "[0 4 0 0 2 1]\n"
          ]
        }
      ]
    },
    {
      "cell_type": "code",
      "source": [
        "#8\n",
        "import numpy as np\n",
        "arr = np.ones((5, 5))\n",
        "arr[1:-1, 1:-1] = 0\n",
        "print(arr)"
      ],
      "metadata": {
        "colab": {
          "base_uri": "https://localhost:8080/"
        },
        "id": "6HMdkuSJU84_",
        "outputId": "2e0dad0e-7212-4954-c6af-f7de09d162b8"
      },
      "execution_count": 17,
      "outputs": [
        {
          "output_type": "stream",
          "name": "stdout",
          "text": [
            "[[1. 1. 1. 1. 1.]\n",
            " [1. 0. 0. 0. 1.]\n",
            " [1. 0. 0. 0. 1.]\n",
            " [1. 0. 0. 0. 1.]\n",
            " [1. 1. 1. 1. 1.]]\n"
          ]
        }
      ]
    },
    {
      "cell_type": "code",
      "source": [
        "#9\n",
        "import numpy as np\n",
        "checkerboard = np.zeros((8, 8))\n",
        "checkerboard[1::2, ::2] = 1\n",
        "checkerboard[::2, 1::2] = 1\n",
        "print(checkerboard)"
      ],
      "metadata": {
        "colab": {
          "base_uri": "https://localhost:8080/"
        },
        "id": "QVhTIzB-VAbR",
        "outputId": "a1188c76-2590-4cb3-e9b4-8e39390a2d20"
      },
      "execution_count": 18,
      "outputs": [
        {
          "output_type": "stream",
          "name": "stdout",
          "text": [
            "[[0. 1. 0. 1. 0. 1. 0. 1.]\n",
            " [1. 0. 1. 0. 1. 0. 1. 0.]\n",
            " [0. 1. 0. 1. 0. 1. 0. 1.]\n",
            " [1. 0. 1. 0. 1. 0. 1. 0.]\n",
            " [0. 1. 0. 1. 0. 1. 0. 1.]\n",
            " [1. 0. 1. 0. 1. 0. 1. 0.]\n",
            " [0. 1. 0. 1. 0. 1. 0. 1.]\n",
            " [1. 0. 1. 0. 1. 0. 1. 0.]]\n"
          ]
        }
      ]
    },
    {
      "cell_type": "code",
      "source": [
        "#Problem-3:Array Operations\n",
        "#1\n",
        "import numpy as np\n",
        "x = np.array([[1,2],[3,5]])\n",
        "y = np.array([[5,6],[7,8]])\n",
        "v = np.array([9,10])\n",
        "w = np.array([11,12])\n",
        "add_arr = x + y\n",
        "add_arr1 = v + w\n",
        "print(\"Addition of X and Y:\", add_arr, \"\\nAddition of V and W:\", add_arr1)"
      ],
      "metadata": {
        "colab": {
          "base_uri": "https://localhost:8080/"
        },
        "id": "K_f1Z-O_VDh6",
        "outputId": "4837afa6-7b0c-4403-8983-7b29bd34049c"
      },
      "execution_count": 19,
      "outputs": [
        {
          "output_type": "stream",
          "name": "stdout",
          "text": [
            "Addition of X and Y: [[ 6  8]\n",
            " [10 13]] \n",
            "Addition of V and W: [20 22]\n"
          ]
        }
      ]
    },
    {
      "cell_type": "code",
      "source": [
        "#2\n",
        "import numpy as np\n",
        "x = np.array([[1,2],[3,5]])\n",
        "y = np.array([[5,6],[7,8]])\n",
        "v = np.array([9,10])\n",
        "w = np.array([11,12])\n",
        "sub_arr = x - y\n",
        "sub_arr1 = v - w\n",
        "print(\"Subtraction of X and Y:\", sub_arr, \"\\nSubtraction of V and W:\", sub_arr1)"
      ],
      "metadata": {
        "colab": {
          "base_uri": "https://localhost:8080/"
        },
        "id": "TzeXsSQzVE9l",
        "outputId": "a7288ce4-1c8c-43a6-8e66-bc5ef8ff0a11"
      },
      "execution_count": 20,
      "outputs": [
        {
          "output_type": "stream",
          "name": "stdout",
          "text": [
            "Subtraction of X and Y: [[-4 -4]\n",
            " [-4 -3]] \n",
            "Subtraction of V and W: [-2 -2]\n"
          ]
        }
      ]
    },
    {
      "cell_type": "code",
      "source": [
        "#3\n",
        "import numpy as np\n",
        "x = np.array([[1,2],[3,5]])\n",
        "y = np.array([[5,6],[7,8]])\n",
        "v = np.array([9,10])\n",
        "w = np.array([11,12])\n",
        "mult_arr = x * 9\n",
        "print(mult_arr)"
      ],
      "metadata": {
        "colab": {
          "base_uri": "https://localhost:8080/"
        },
        "id": "uE-SFJrbVKF5",
        "outputId": "ab18f78e-4f35-42e5-dcb6-b7958b454e8f"
      },
      "execution_count": 21,
      "outputs": [
        {
          "output_type": "stream",
          "name": "stdout",
          "text": [
            "[[ 9 18]\n",
            " [27 45]]\n"
          ]
        }
      ]
    },
    {
      "cell_type": "code",
      "source": [
        "#4\n",
        "import numpy as np\n",
        "x = np.array([[1,2],[3,5]])\n",
        "y = np.array([[5,6],[7,8]])\n",
        "v = np.array([9,10])\n",
        "w = np.array([11,12])\n",
        "square_arrX = x**2\n",
        "square_arrY = y**2\n",
        "square_arrV = v**2\n",
        "square_arrW = w**2\n",
        "print(square_arrX, \"\\n\",square_arrY, \"\\n\",square_arrV,\"\\n\" ,square_arrW)"
      ],
      "metadata": {
        "colab": {
          "base_uri": "https://localhost:8080/"
        },
        "id": "m3rtBW2l6SjK",
        "outputId": "9880ac5f-2920-4a75-9b7e-42b8fa49a27a"
      },
      "execution_count": 3,
      "outputs": [
        {
          "output_type": "stream",
          "name": "stdout",
          "text": [
            "[[ 1  4]\n",
            " [ 9 25]] \n",
            " [[25 36]\n",
            " [49 64]] \n",
            " [ 81 100] \n",
            " [121 144]\n"
          ]
        }
      ]
    },
    {
      "cell_type": "code",
      "source": [
        "#5\n",
        "import numpy as np\n",
        "x = np.array([[1,2],[3,5]])\n",
        "y = np.array([[5,6],[7,8]])\n",
        "v = np.array([9,10])\n",
        "w = np.array([11,12])\n",
        "dot_product_vw = np.dot(v, w)\n",
        "dot_product_xv = np.dot(x, v)\n",
        "dot_product_xy = np.dot(x, y)\n",
        "print(\"Dot Product of V and W:\",dot_product_vw, \"\\nDot Product of X and V: \",dot_product_xv,\"\\nDot Product of X and Y:\",dot_product_xy)"
      ],
      "metadata": {
        "colab": {
          "base_uri": "https://localhost:8080/"
        },
        "id": "fgvN3DhX6Vdl",
        "outputId": "ae5f82b2-a9fa-4da9-d59b-6498acbe2d3d"
      },
      "execution_count": 4,
      "outputs": [
        {
          "output_type": "stream",
          "name": "stdout",
          "text": [
            "Dot Product of V and W: 219 \n",
            "Dot Product of X and V:  [29 77] \n",
            "Dot Product of X and Y: [[19 22]\n",
            " [50 58]]\n"
          ]
        }
      ]
    },
    {
      "cell_type": "code",
      "source": [
        "#6\n",
        "import numpy as np\n",
        "x = np.array([[1,2],[3,5]])\n",
        "y = np.array([[5,6],[7,8]])\n",
        "v = np.array([9,10])\n",
        "w = np.array([11,12])\n",
        "concat_xy_rows = np.concatenate((x, y), axis=0)\n",
        "concat_vw_columns = np.vstack((v, w)).T\n",
        "print(concat_xy_rows)\n",
        "print(concat_vw_columns)"
      ],
      "metadata": {
        "colab": {
          "base_uri": "https://localhost:8080/"
        },
        "id": "pJj7dcxv6Yw9",
        "outputId": "3253a116-4d25-44e7-df74-8edded4ef87c"
      },
      "execution_count": 5,
      "outputs": [
        {
          "output_type": "stream",
          "name": "stdout",
          "text": [
            "[[1 2]\n",
            " [3 5]\n",
            " [5 6]\n",
            " [7 8]]\n",
            "[[ 9 11]\n",
            " [10 12]]\n"
          ]
        }
      ]
    },
    {
      "cell_type": "code",
      "source": [
        "#7\n",
        "import numpy as np\n",
        "x = np.array([[1,2],[3,5]])\n",
        "y = np.array([[5,6],[7,8]])\n",
        "v = np.array([9,10])\n",
        "w = np.array([11,12])\n",
        "try:\n",
        "    concat_xv = np.concatenate((x, v), axis=0)\n",
        "except ValueError as e:\n",
        "    concat_xv_error = str(e)\n",
        "print(concat_xv_error)"
      ],
      "metadata": {
        "colab": {
          "base_uri": "https://localhost:8080/"
        },
        "id": "58T-5UbV6bdz",
        "outputId": "9ed6f23b-b7b8-4d07-92f1-4a1722006bbb"
      },
      "execution_count": 6,
      "outputs": [
        {
          "output_type": "stream",
          "name": "stdout",
          "text": [
            "all the input arrays must have same number of dimensions, but the array at index 0 has 2 dimension(s) and the array at index 1 has 1 dimension(s)\n"
          ]
        }
      ]
    },
    {
      "cell_type": "code",
      "source": [
        "#Problem-4: Matrix Operations\n",
        "#1\n",
        "A = np.array([[3, 4], [7, 8]])\n",
        "B = np.array([[5, 3], [2, 1]])\n",
        "A_inv = np.linalg.inv(A)\n",
        "I = np.dot(A, A_inv)\n",
        "print(\"\\nA.A^-1:\\n\", I)"
      ],
      "metadata": {
        "colab": {
          "base_uri": "https://localhost:8080/"
        },
        "id": "uxoMdH5t6eNX",
        "outputId": "5aa1f2f8-62e1-40b2-e86c-f0e24c57a8b3"
      },
      "execution_count": 7,
      "outputs": [
        {
          "output_type": "stream",
          "name": "stdout",
          "text": [
            "\n",
            "A.A^-1:\n",
            " [[1.00000000e+00 0.00000000e+00]\n",
            " [1.77635684e-15 1.00000000e+00]]\n"
          ]
        }
      ]
    },
    {
      "cell_type": "code",
      "source": [
        "#2\n",
        "A = np.array([[3, 4], [7, 8]])\n",
        "B = np.array([[5, 3], [2, 1]])\n",
        "AB = np.dot(A, B)\n",
        "BA = np.dot(B, A)\n",
        "print(\"\\nAB:\\n\", AB)\n",
        "print(\"\\nBA:\\n\", BA)\n",
        "print(\"\\nAB ≠ BA:\", not np.array_equal(AB, BA))"
      ],
      "metadata": {
        "colab": {
          "base_uri": "https://localhost:8080/"
        },
        "id": "U54BctOL6h0d",
        "outputId": "07833eb0-9c79-45b9-cf07-4af7f7630d24"
      },
      "execution_count": 8,
      "outputs": [
        {
          "output_type": "stream",
          "name": "stdout",
          "text": [
            "\n",
            "AB:\n",
            " [[23 13]\n",
            " [51 29]]\n",
            "\n",
            "BA:\n",
            " [[36 44]\n",
            " [13 16]]\n",
            "\n",
            "AB ≠ BA: True\n"
          ]
        }
      ]
    },
    {
      "cell_type": "code",
      "source": [
        "#3\n",
        "import numpy as np\n",
        "A = np.array([[3, 4], [7, 8]])\n",
        "B = np.array([[5, 3], [2, 1]])\n",
        "AB = np.dot(A, B)\n",
        "BA = np.dot(B, A)\n",
        "AB_transpose = AB.transpose()\n",
        "B_transpose = B.transpose()\n",
        "A_transpose = A.transpose()\n",
        "BT_AT = np.dot(B_transpose, A_transpose)\n",
        "print(\"\\n(AB)ᵀ:\\n\", AB_transpose)\n",
        "print(\"\\nBᵀAᵀ:\\n\", BT_AT)\n",
        "print(\"\\n(AB)ᵀ = BᵀAᵀ:\", np.array_equal(AB_transpose, BT_AT))"
      ],
      "metadata": {
        "colab": {
          "base_uri": "https://localhost:8080/"
        },
        "id": "1iRCsA436mEi",
        "outputId": "adba033f-9545-4f5d-d56e-e33b7b4a63ee"
      },
      "execution_count": 9,
      "outputs": [
        {
          "output_type": "stream",
          "name": "stdout",
          "text": [
            "\n",
            "(AB)ᵀ:\n",
            " [[23 51]\n",
            " [13 29]]\n",
            "\n",
            "BᵀAᵀ:\n",
            " [[23 51]\n",
            " [13 29]]\n",
            "\n",
            "(AB)ᵀ = BᵀAᵀ: True\n"
          ]
        }
      ]
    },
    {
      "cell_type": "code",
      "source": [
        "#Linear Equation\n",
        "# 2x − 3y + z = −1\n",
        "# x − y + 2z = −3\n",
        "# 3x + y − z = 9\n",
        "A = np.array([[2, -3, 1], [1, -1, 2], [3, 1, -1]])\n",
        "B = np.array([-1, -3, 9])\n",
        "\n",
        "\n",
        "# Using inverse method\n",
        "X = np.dot(np.linalg.inv(A), B)\n",
        "print(\"\\nSolution using inverse method:\\n\", X)\n",
        "\n",
        "\n",
        "# Using np.linalg.solve\n",
        "X_solve = np.linalg.solve(A,B)\n",
        "print(\"\\nSolution using np.linalg.solve:\\n\", X_solve)"
      ],
      "metadata": {
        "colab": {
          "base_uri": "https://localhost:8080/"
        },
        "id": "F7qh80Vh6pAj",
        "outputId": "bbbeec0b-be41-45ba-d0ca-43d471f87a63"
      },
      "execution_count": 10,
      "outputs": [
        {
          "output_type": "stream",
          "name": "stdout",
          "text": [
            "\n",
            "Solution using inverse method:\n",
            " [ 2.  1. -2.]\n",
            "\n",
            "Solution using np.linalg.solve:\n",
            " [ 2.  1. -2.]\n"
          ]
        }
      ]
    },
    {
      "cell_type": "code",
      "source": [
        "import numpy as np\n",
        "import time\n",
        "\n",
        "\n",
        "# 1. Element-wise Addition\n",
        "size = 1000000\n",
        "list1 = list(range(size))\n",
        "list2 = list(range(size))\n",
        "array1 = np.array(list1)\n",
        "array2 = np.array(list2)\n",
        "\n",
        "\n",
        "start_time = time.time()\n",
        "list_sum = [x + y for x, y in zip(list1, list2)]\n",
        "end_time = time.time()\n",
        "print(\"List element-wise addition time:\", end_time - start_time)\n",
        "\n",
        "start_time = time.time()\n",
        "array_sum = array1 + array2\n",
        "end_time = time.time()\n",
        "print(\"Numpy element-wise addition time:\", end_time - start_time)"
      ],
      "metadata": {
        "colab": {
          "base_uri": "https://localhost:8080/"
        },
        "id": "x1-rB-Xq6rw2",
        "outputId": "ae266ac3-2ce9-45d4-829e-ac2fcb447503"
      },
      "execution_count": 11,
      "outputs": [
        {
          "output_type": "stream",
          "name": "stdout",
          "text": [
            "List element-wise addition time: 0.09672164916992188\n",
            "Numpy element-wise addition time: 0.004870176315307617\n"
          ]
        }
      ]
    },
    {
      "cell_type": "code",
      "source": [
        "# 2. Element-wise Multiplication\n",
        "start_time = time.time()\n",
        "list_mult = [x * y for x, y in zip(list1, list2)]\n",
        "end_time = time.time()\n",
        "print(\"List element-wise multiplication time:\", end_time - start_time)\n",
        "\n",
        "\n",
        "\n",
        "\n",
        "start_time = time.time()\n",
        "array_mult = array1 * array2\n",
        "end_time = time.time()\n",
        "print(\"Numpy element-wise multiplication time:\", end_time - start_time)"
      ],
      "metadata": {
        "colab": {
          "base_uri": "https://localhost:8080/"
        },
        "id": "vKrkmBeh6xMP",
        "outputId": "a2b4bd43-d4c0-4e80-d39d-9fd39840f394"
      },
      "execution_count": 12,
      "outputs": [
        {
          "output_type": "stream",
          "name": "stdout",
          "text": [
            "List element-wise multiplication time: 0.18095135688781738\n",
            "Numpy element-wise multiplication time: 0.005941152572631836\n"
          ]
        }
      ]
    },
    {
      "cell_type": "code",
      "source": [
        "# 3. Dot Product\n",
        "list1 = list(range(size))\n",
        "list2 = list(range(size))\n",
        "array1 = np.array(list1)\n",
        "array2 = np.array(list2)\n",
        "start_time = time.time()\n",
        "dot_product_list = sum(x * y for x, y in zip(list1, list2))\n",
        "end_time = time.time()\n",
        "print(\"List dot product time:\", end_time - start_time)\n",
        "\n",
        "\n",
        "start_time = time.time()\n",
        "dot_product_array = np.dot(array1, array2)\n",
        "end_time = time.time()\n",
        "print(\"Numpy dot product time:\", end_time - start_time)"
      ],
      "metadata": {
        "colab": {
          "base_uri": "https://localhost:8080/"
        },
        "id": "0wwGPc4u60dw",
        "outputId": "add73335-5d73-47c8-9840-643f75d29c96"
      },
      "execution_count": 13,
      "outputs": [
        {
          "output_type": "stream",
          "name": "stdout",
          "text": [
            "List dot product time: 0.13241052627563477\n",
            "Numpy dot product time: 0.002145051956176758\n"
          ]
        }
      ]
    },
    {
      "cell_type": "code",
      "source": [
        "# 4. Matrix Multiplication\n",
        "list1 = list(range(size))\n",
        "list2 = list(range(size))\n",
        "array1 = np.array(list1)\n",
        "array2 = np.array(list2)\n",
        "size = 1000\n",
        "\n",
        "\n",
        "# Using Python lists\n",
        "matrix1 = [[j for j in range(size)] for i in range(size)]\n",
        "matrix2 = [[j for j in range(size)] for i in range(size)]\n",
        "\n",
        "\n",
        "start_time = time.time()\n",
        "result_matrix = [[sum(matrix1[i][k] * matrix2[k][j] for k in range(size)) for j in range(size)] for i in range(size)]\n",
        "end_time = time.time()\n",
        "\n",
        "\n",
        "print(\"Python list matrix multiplication time:\", end_time - start_time)\n",
        "\n",
        "# Using NumPy arrays\n",
        "matrix1_np = np.array(matrix1)\n",
        "matrix2_np = np.array(matrix2)\n",
        "\n",
        "\n",
        "start_time = time.time()\n",
        "result_matrix_np = np.dot(matrix1_np, matrix2_np)\n",
        "end_time = time.time()\n",
        "\n",
        "\n",
        "print(\"NumPy matrix multiplication time:\", end_time - start_time)"
      ],
      "metadata": {
        "colab": {
          "base_uri": "https://localhost:8080/"
        },
        "id": "92tfgCyw61i1",
        "outputId": "b989aae4-a81f-4c61-b6db-59177ba5f25e"
      },
      "execution_count": 14,
      "outputs": [
        {
          "output_type": "stream",
          "name": "stdout",
          "text": [
            "Python list matrix multiplication time: 252.1667582988739\n",
            "NumPy matrix multiplication time: 2.075754404067993\n"
          ]
        }
      ]
    }
  ]
}